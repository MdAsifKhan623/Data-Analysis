{
 "cells": [
  {
   "cell_type": "code",
   "execution_count": 1,
   "metadata": {},
   "outputs": [],
   "source": [
    "import pandas as pd\n",
    "import matplotlib.pyplot as plt\n",
    "import numpy as np\n",
    "from sklearn.decomposition import PCA\n",
    "from sklearn.preprocessing import StandardScaler"
   ]
  },
  {
   "cell_type": "code",
   "execution_count": null,
   "metadata": {},
   "outputs": [],
   "source": [
    "part1=pd.read_csv('part1.csv')\n",
    "# part1.insert(10,\"Cluster\",5)\n",
    "part1.head()"
   ]
  },
  {
   "cell_type": "code",
   "execution_count": null,
   "metadata": {},
   "outputs": [],
   "source": [
    "part1.shape[0]"
   ]
  },
  {
   "cell_type": "code",
   "execution_count": null,
   "metadata": {},
   "outputs": [],
   "source": [
    "part2,part3,part4=pd.read_csv('part2.csv'),pd.read_csv('part3.csv'),pd.read_csv('part4.csv')\n",
    "# part2.insert(10,\"Cluster\",2)\n",
    "# part3.insert(10,\"Cluster\",9)\n",
    "# part4.insert(10,\"Cluster\",7)\n"
   ]
  },
  {
   "cell_type": "code",
   "execution_count": null,
   "metadata": {},
   "outputs": [],
   "source": [
    "part5,part6=pd.read_csv('part5.csv'),pd.read_csv('part6.csv')\n",
    "part7,part8=pd.read_csv('part7.csv'),pd.read_csv('part8.csv')\n",
    "part9,part10=pd.read_csv('part9.csv'),pd.read_csv('part10.csv')\n",
    "part11=pd.read_csv('part11.csv')\n",
    "# part5.insert(10,\"Cluster\",0)\n",
    "# part6.insert(10,\"Cluster\",4)\n",
    "# part7.insert(10,\"Cluster\",8)\n",
    "# part8.insert(10,\"Cluster\",3)\n",
    "# part9.insert(10,\"Cluster\",6)\n",
    "# part10.insert(10,\"Cluster\",10)\n",
    "# part11.insert(10,\"Cluster\",1)"
   ]
  },
  {
   "cell_type": "code",
   "execution_count": null,
   "metadata": {},
   "outputs": [],
   "source": [
    "part1f,part2f,part3f,part4f,part5f=part1.iloc[:5000,:],part2.iloc[:5000,:],part3.iloc[:5000,:],part4.iloc[:5000,:],part5.iloc[:5000,:]\n",
    "part6f,part7f,part8f,part9f,part10f=part6.iloc[:5000,:],part7.iloc[:5000,:],part8.iloc[:5000,:],part9.iloc[:5000,:],part10.iloc[:5000,:]\n",
    "part11f=part11.iloc[:5000,:]\n",
    "# frames=[part1f,part2f,part3f,part4f,part5f,part6f,part7f,part8f,part9f,part10f,part11f]\n",
    "frames=[part1,part2,part3,part4,part5,part6,part7,part8,part9,part10,part11]\n",
    "\n",
    "dataframe=pd.concat(frames)\n",
    "# dataframe.to_csv('fulldataset.csv')"
   ]
  },
  {
   "cell_type": "code",
   "execution_count": 2,
   "metadata": {},
   "outputs": [
    {
     "data": {
      "text/html": [
       "<div>\n",
       "<style scoped>\n",
       "    .dataframe tbody tr th:only-of-type {\n",
       "        vertical-align: middle;\n",
       "    }\n",
       "\n",
       "    .dataframe tbody tr th {\n",
       "        vertical-align: top;\n",
       "    }\n",
       "\n",
       "    .dataframe thead th {\n",
       "        text-align: right;\n",
       "    }\n",
       "</style>\n",
       "<table border=\"1\" class=\"dataframe\">\n",
       "  <thead>\n",
       "    <tr style=\"text-align: right;\">\n",
       "      <th></th>\n",
       "      <th>Input_Delta_Current</th>\n",
       "      <th>Input_Delta_Voltage</th>\n",
       "      <th>Input_Original_Current_Pre_1C</th>\n",
       "      <th>Input_Original_Current_Pre_VarC</th>\n",
       "      <th>Input_Original_Voltage_Pre_1C</th>\n",
       "      <th>Input_Original_Voltage_Pre_VarC</th>\n",
       "      <th>Target_Delta_Charge_Capacity</th>\n",
       "      <th>Target_Delta_Discharge_Capacity</th>\n",
       "      <th>Time</th>\n",
       "    </tr>\n",
       "  </thead>\n",
       "  <tbody>\n",
       "    <tr>\n",
       "      <th>0</th>\n",
       "      <td>0.0</td>\n",
       "      <td>-0.100338</td>\n",
       "      <td>0.0</td>\n",
       "      <td>0.0</td>\n",
       "      <td>3.347792</td>\n",
       "      <td>3.247454</td>\n",
       "      <td>0.0</td>\n",
       "      <td>0.0</td>\n",
       "      <td>0.000000</td>\n",
       "    </tr>\n",
       "    <tr>\n",
       "      <th>1</th>\n",
       "      <td>0.0</td>\n",
       "      <td>-0.099988</td>\n",
       "      <td>0.0</td>\n",
       "      <td>0.0</td>\n",
       "      <td>3.347601</td>\n",
       "      <td>3.247613</td>\n",
       "      <td>0.0</td>\n",
       "      <td>0.0</td>\n",
       "      <td>0.000028</td>\n",
       "    </tr>\n",
       "    <tr>\n",
       "      <th>2</th>\n",
       "      <td>0.0</td>\n",
       "      <td>-0.100119</td>\n",
       "      <td>0.0</td>\n",
       "      <td>0.0</td>\n",
       "      <td>3.347696</td>\n",
       "      <td>3.247577</td>\n",
       "      <td>0.0</td>\n",
       "      <td>0.0</td>\n",
       "      <td>0.000056</td>\n",
       "    </tr>\n",
       "    <tr>\n",
       "      <th>3</th>\n",
       "      <td>0.0</td>\n",
       "      <td>-0.100179</td>\n",
       "      <td>0.0</td>\n",
       "      <td>0.0</td>\n",
       "      <td>3.347887</td>\n",
       "      <td>3.247708</td>\n",
       "      <td>0.0</td>\n",
       "      <td>0.0</td>\n",
       "      <td>0.000083</td>\n",
       "    </tr>\n",
       "    <tr>\n",
       "      <th>4</th>\n",
       "      <td>0.0</td>\n",
       "      <td>-0.099988</td>\n",
       "      <td>0.0</td>\n",
       "      <td>0.0</td>\n",
       "      <td>3.347649</td>\n",
       "      <td>3.247660</td>\n",
       "      <td>0.0</td>\n",
       "      <td>0.0</td>\n",
       "      <td>0.000111</td>\n",
       "    </tr>\n",
       "  </tbody>\n",
       "</table>\n",
       "</div>"
      ],
      "text/plain": [
       "   Input_Delta_Current  Input_Delta_Voltage  Input_Original_Current_Pre_1C  \\\n",
       "0                  0.0            -0.100338                            0.0   \n",
       "1                  0.0            -0.099988                            0.0   \n",
       "2                  0.0            -0.100119                            0.0   \n",
       "3                  0.0            -0.100179                            0.0   \n",
       "4                  0.0            -0.099988                            0.0   \n",
       "\n",
       "   Input_Original_Current_Pre_VarC  Input_Original_Voltage_Pre_1C  \\\n",
       "0                              0.0                       3.347792   \n",
       "1                              0.0                       3.347601   \n",
       "2                              0.0                       3.347696   \n",
       "3                              0.0                       3.347887   \n",
       "4                              0.0                       3.347649   \n",
       "\n",
       "   Input_Original_Voltage_Pre_VarC  Target_Delta_Charge_Capacity  \\\n",
       "0                         3.247454                           0.0   \n",
       "1                         3.247613                           0.0   \n",
       "2                         3.247577                           0.0   \n",
       "3                         3.247708                           0.0   \n",
       "4                         3.247660                           0.0   \n",
       "\n",
       "   Target_Delta_Discharge_Capacity      Time  \n",
       "0                              0.0  0.000000  \n",
       "1                              0.0  0.000028  \n",
       "2                              0.0  0.000056  \n",
       "3                              0.0  0.000083  \n",
       "4                              0.0  0.000111  "
      ]
     },
     "execution_count": 2,
     "metadata": {},
     "output_type": "execute_result"
    }
   ],
   "source": [
    "df=pd.read_csv('fulldataset.csv')\n",
    "df=df.iloc[:,2:]\n",
    "df.head()\n",
    "\n"
   ]
  },
  {
   "cell_type": "code",
   "execution_count": 9,
   "metadata": {},
   "outputs": [
    {
     "data": {
      "text/plain": [
       "PCA(copy=True, iterated_power='auto', n_components=None, random_state=None,\n",
       "  svd_solver='auto', tol=0.0, whiten=False)"
      ]
     },
     "execution_count": 9,
     "metadata": {},
     "output_type": "execute_result"
    }
   ],
   "source": [
    "df=StandardScaler().fit_transform(df)\n",
    "pca=PCA()\n",
    "pca.fit(df)"
   ]
  },
  {
   "cell_type": "code",
   "execution_count": 10,
   "metadata": {},
   "outputs": [
    {
     "data": {
      "text/plain": [
       "array([0.3122882 , 0.25142109, 0.19369633, 0.10548764, 0.07687683,\n",
       "       0.03013307, 0.02311328, 0.00546074, 0.00152281])"
      ]
     },
     "execution_count": 10,
     "metadata": {},
     "output_type": "execute_result"
    }
   ],
   "source": [
    "pca.explained_variance_ratio_"
   ]
  },
  {
   "cell_type": "code",
   "execution_count": 11,
   "metadata": {},
   "outputs": [],
   "source": [
    "score_df=pca.transform(df)"
   ]
  },
  {
   "cell_type": "code",
   "execution_count": 5,
   "metadata": {},
   "outputs": [
    {
     "data": {
      "text/plain": [
       "Text(0,0.5,'Variance')"
      ]
     },
     "execution_count": 5,
     "metadata": {},
     "output_type": "execute_result"
    },
    {
     "data": {
      "image/png": "[encoded data removed]",
      "text/plain": [
       "<matplotlib.figure.Figure at 0x1aee86ae0f0>"
      ]
     },
     "metadata": {},
     "output_type": "display_data"
    }
   ],
   "source": [
    "plt.figure(figsize=(10,8))\n",
    "plt.plot(range(1,10),pca.explained_variance_ratio_.cumsum(),marker='o',linestyle='--')\n",
    "plt.title('Variance vs Components Graph')\n",
    "plt.xlabel('Components')\n",
    "plt.ylabel('Variance')"
   ]
  },
  {
   "cell_type": "code",
   "execution_count": 6,
   "metadata": {},
   "outputs": [],
   "source": [
    "pca=PCA(n_components=2)\n",
    "new_df=pca.fit_transform(df)"
   ]
  },
  {
   "cell_type": "code",
   "execution_count": 8,
   "metadata": {},
   "outputs": [
    {
     "data": {
      "text/plain": [
       "array([0.3122882 , 0.25142109])"
      ]
     },
     "execution_count": 8,
     "metadata": {},
     "output_type": "execute_result"
    }
   ],
   "source": [
    "pca.explained_variance_ratio_"
   ]
  },
  {
   "cell_type": "code",
   "execution_count": 12,
   "metadata": {},
   "outputs": [],
   "source": [
    "from sklearn.cluster import KMeans\n",
    "wcss=[]\n",
    "for i in range(1,21):\n",
    "    kmeans_p=KMeans(n_clusters=i, init=\"k-means++\", random_state=42)\n",
    "    kmeans_p.fit(score_df)\n",
    "    wcss.append(kmeans_p.inertia_)"
   ]
  },
  {
   "cell_type": "code",
   "execution_count": null,
   "metadata": {},
   "outputs": [],
   "source": [
    "plt.figure(figsize=(10,8))\n",
    "plt.plot(range(1,21),wcss,marker='o',linestyle='--')\n",
    "plt.title('K-means with PCA clustering Graph')\n",
    "plt.xlabel('Number of Clusters')\n",
    "plt.ylabel('WCSS')"
   ]
  },
  {
   "cell_type": "code",
   "execution_count": null,
   "metadata": {},
   "outputs": [],
   "source": [
    "kmeans = KMeans(n_clusters=11)\n",
    "df=dataframe.iloc[:,:-1]\n",
    "\n",
    "y = kmeans.fit_predict(df[['Input_Delta_Current', 'Input_Delta_Voltage', 'Input_Original_Current_Pre_1C', 'Input_Original_Current_Pre_VarC','Input_Original_Voltage_Pre_1C','Input_Original_Voltage_Pre_VarC','Target_Delta_Charge_Capacity','Target_Delta_Discharge_Capacity','Time']])\n",
    "\n",
    "df['Cluster'] = y\n",
    "cluster=dataframe.iloc[:,-1:]\n",
    "df.head()"
   ]
  },
  {
   "cell_type": "code",
   "execution_count": null,
   "metadata": {},
   "outputs": [],
   "source": [
    "df.shape"
   ]
  },
  {
   "cell_type": "code",
   "execution_count": null,
   "metadata": {},
   "outputs": [],
   "source": [
    "from sklearn.cluster import KMeans\n",
    "from sklearn.feature_selection import SelectKBest\n",
    "from sklearn.feature_selection import f_regression\n",
    "from datetime import datetime\n",
    "from sklearn.metrics import confusion_matrix, accuracy_score,mean_squared_error\n"
   ]
  },
  {
   "cell_type": "code",
   "execution_count": null,
   "metadata": {},
   "outputs": [],
   "source": [
    "cluster_predict.head()"
   ]
  },
  {
   "cell_type": "code",
   "execution_count": null,
   "metadata": {
    "scrolled": true
   },
   "outputs": [],
   "source": [
    "\n",
    "results=pd.read_csv('result1.csv')\n",
    "cluster_predict=results.iloc[:,-1:]\n",
    "cluster=dataframe.iloc[:,-1:]\n",
    "#Creating the consufion matrix of predicted values and actual test set values \n",
    "cm=confusion_matrix(cluster,cluster_predict)\n",
    "print(\"Accuracy Score--\",accuracy_score(cluster,cluster_predict))\n",
    "print(cm)\n"
   ]
  },
  {
   "cell_type": "code",
   "execution_count": null,
   "metadata": {},
   "outputs": [],
   "source": [
    "dataframe_x=dataframe.iloc[:,np.r_[:7,-1]]\n",
    "dataframe_y1=dataframe.iloc[:,7]\n",
    "dataframe_y2=dataframe.iloc[:,8]\n",
    "dataframe_y2.head()"
   ]
  },
  {
   "cell_type": "code",
   "execution_count": null,
   "metadata": {},
   "outputs": [],
   "source": [
    "#Apply SelectKBest and ch2 statistical testing to extract 8 best features in the training dataset\n",
    "fs = SelectKBest(score_func=f_regression, k=8)\n",
    "# bestfeatures = SelectKBest(score_func=chi2, k=8)\n",
    "# fit=bestfeatures.fit(dataframe_x,dataframe_y1)\n",
    "# dfscores = pd.DataFrame(fit.scores_)\n",
    "X_selected = fs.fit_transform(dataframe_x, dataframe_y1)\n",
    "# dfcolumns = pd.DataFrame(dataframe_x.columns)\n",
    "X_selected.head()"
   ]
  },
  {
   "cell_type": "code",
   "execution_count": null,
   "metadata": {},
   "outputs": [],
   "source": [
    "kmeans = KMeans(n_clusters=11)\n",
    "y = kmeans.fit_predict(dataframe[['Input_Delta_Current', 'Input_Delta_Voltage', 'Input_Original_Current_Pre_VarC','Input_Original_Voltage_Pre_VarC','Target_Delta_Charge_Capacity','Target_Delta_Discharge_Capacity','Time']])\n",
    "dataframe['Cluster'] = y\n",
    "now = datetime.now()\n",
    "current_time = now.strftime(\"%H:%M:%S\")\n",
    "dataframe.head()\n",
    "dataframe.to_csv('result1.csv')\n",
    "print(current_time)"
   ]
  },
  {
   "cell_type": "code",
   "execution_count": null,
   "metadata": {},
   "outputs": [],
   "source": [
    "# %install_ext https://raw.github.com/cpcloud/ipython-autotime/master/autotime.py\n",
    "# %load_ext autotime\n",
    "\n",
    "term=pd.read_csv('result1.csv')\n",
    "term=term.iloc[:,-1:]\n",
    "term.head()\n",
    "di={}\n",
    "for i in range(11):\n",
    "#     di[str(i)]=df[(df['Cluster']==i)].count()\n",
    "    print(term[(term['Cluster']==i)].count())"
   ]
  },
  {
   "cell_type": "code",
   "execution_count": null,
   "metadata": {},
   "outputs": [],
   "source": [
    "dataframe.head()"
   ]
  },
  {
   "cell_type": "code",
   "execution_count": null,
   "metadata": {},
   "outputs": [],
   "source": []
  }
 ],
 "metadata": {
  "kernelspec": {
   "display_name": "Python 3",
   "language": "python",
   "name": "python3"
  },
  "language_info": {
   "codemirror_mode": {
    "name": "ipython",
    "version": 3
   },
   "file_extension": ".py",
   "mimetype": "text/x-python",
   "name": "python",
   "nbconvert_exporter": "python",
   "pygments_lexer": "ipython3",
   "version": "3.6.4"
  }
 },
 "nbformat": 4,
 "nbformat_minor": 2
}
