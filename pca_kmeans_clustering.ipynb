{
 "cells": [
  {
   "cell_type": "code",
   "execution_count": 1,
   "metadata": {},
   "outputs": [],
   "source": [
    "import pandas as pd\n",
    "import matplotlib.pyplot as plt\n",
    "import numpy as np\n",
    "from sklearn.decomposition import PCA\n",
    "from sklearn.preprocessing import StandardScaler\n",
    "from sklearn.cluster import KMeans\n",
    "from datetime import datetime\n",
    "from sklearn.metrics import confusion_matrix, accuracy_score,mean_squared_error\n",
    "import seaborn as sns\n",
    "# sns.__version__"
   ]
  },
  {
   "cell_type": "code",
   "execution_count": 2,
   "metadata": {},
   "outputs": [
    {
     "data": {
      "text/html": [
       "<div>\n",
       "<style scoped>\n",
       "    .dataframe tbody tr th:only-of-type {\n",
       "        vertical-align: middle;\n",
       "    }\n",
       "\n",
       "    .dataframe tbody tr th {\n",
       "        vertical-align: top;\n",
       "    }\n",
       "\n",
       "    .dataframe thead th {\n",
       "        text-align: right;\n",
       "    }\n",
       "</style>\n",
       "<table border=\"1\" class=\"dataframe\">\n",
       "  <thead>\n",
       "    <tr style=\"text-align: right;\">\n",
       "      <th></th>\n",
       "      <th>Input_Delta_Current</th>\n",
       "      <th>Input_Delta_Voltage</th>\n",
       "      <th>Input_Original_Current_Pre_1C</th>\n",
       "      <th>Input_Original_Current_Pre_VarC</th>\n",
       "      <th>Input_Original_Voltage_Pre_1C</th>\n",
       "      <th>Input_Original_Voltage_Pre_VarC</th>\n",
       "      <th>Target_Delta_Charge_Capacity</th>\n",
       "      <th>Target_Delta_Discharge_Capacity</th>\n",
       "      <th>Time</th>\n",
       "    </tr>\n",
       "  </thead>\n",
       "  <tbody>\n",
       "    <tr>\n",
       "      <th>0</th>\n",
       "      <td>0.0</td>\n",
       "      <td>-0.100338</td>\n",
       "      <td>0.0</td>\n",
       "      <td>0.0</td>\n",
       "      <td>3.347792</td>\n",
       "      <td>3.247454</td>\n",
       "      <td>0.0</td>\n",
       "      <td>0.0</td>\n",
       "      <td>0.000000</td>\n",
       "    </tr>\n",
       "    <tr>\n",
       "      <th>1</th>\n",
       "      <td>0.0</td>\n",
       "      <td>-0.099988</td>\n",
       "      <td>0.0</td>\n",
       "      <td>0.0</td>\n",
       "      <td>3.347601</td>\n",
       "      <td>3.247613</td>\n",
       "      <td>0.0</td>\n",
       "      <td>0.0</td>\n",
       "      <td>0.000028</td>\n",
       "    </tr>\n",
       "    <tr>\n",
       "      <th>2</th>\n",
       "      <td>0.0</td>\n",
       "      <td>-0.100119</td>\n",
       "      <td>0.0</td>\n",
       "      <td>0.0</td>\n",
       "      <td>3.347696</td>\n",
       "      <td>3.247577</td>\n",
       "      <td>0.0</td>\n",
       "      <td>0.0</td>\n",
       "      <td>0.000056</td>\n",
       "    </tr>\n",
       "    <tr>\n",
       "      <th>3</th>\n",
       "      <td>0.0</td>\n",
       "      <td>-0.100179</td>\n",
       "      <td>0.0</td>\n",
       "      <td>0.0</td>\n",
       "      <td>3.347887</td>\n",
       "      <td>3.247708</td>\n",
       "      <td>0.0</td>\n",
       "      <td>0.0</td>\n",
       "      <td>0.000083</td>\n",
       "    </tr>\n",
       "    <tr>\n",
       "      <th>4</th>\n",
       "      <td>0.0</td>\n",
       "      <td>-0.099988</td>\n",
       "      <td>0.0</td>\n",
       "      <td>0.0</td>\n",
       "      <td>3.347649</td>\n",
       "      <td>3.247660</td>\n",
       "      <td>0.0</td>\n",
       "      <td>0.0</td>\n",
       "      <td>0.000111</td>\n",
       "    </tr>\n",
       "  </tbody>\n",
       "</table>\n",
       "</div>"
      ],
      "text/plain": [
       "   Input_Delta_Current  Input_Delta_Voltage  Input_Original_Current_Pre_1C  \\\n",
       "0                  0.0            -0.100338                            0.0   \n",
       "1                  0.0            -0.099988                            0.0   \n",
       "2                  0.0            -0.100119                            0.0   \n",
       "3                  0.0            -0.100179                            0.0   \n",
       "4                  0.0            -0.099988                            0.0   \n",
       "\n",
       "   Input_Original_Current_Pre_VarC  Input_Original_Voltage_Pre_1C  \\\n",
       "0                              0.0                       3.347792   \n",
       "1                              0.0                       3.347601   \n",
       "2                              0.0                       3.347696   \n",
       "3                              0.0                       3.347887   \n",
       "4                              0.0                       3.347649   \n",
       "\n",
       "   Input_Original_Voltage_Pre_VarC  Target_Delta_Charge_Capacity  \\\n",
       "0                         3.247454                           0.0   \n",
       "1                         3.247613                           0.0   \n",
       "2                         3.247577                           0.0   \n",
       "3                         3.247708                           0.0   \n",
       "4                         3.247660                           0.0   \n",
       "\n",
       "   Target_Delta_Discharge_Capacity      Time  \n",
       "0                              0.0  0.000000  \n",
       "1                              0.0  0.000028  \n",
       "2                              0.0  0.000056  \n",
       "3                              0.0  0.000083  \n",
       "4                              0.0  0.000111  "
      ]
     },
     "execution_count": 2,
     "metadata": {},
     "output_type": "execute_result"
    }
   ],
   "source": [
    "dataframe=pd.read_csv('fulldataset.csv')\n",
    "dataframe=dataframe.iloc[:,2:]\n",
    "dataframe.head()\n"
   ]
  },
  {
   "cell_type": "code",
   "execution_count": null,
   "metadata": {},
   "outputs": [],
   "source": [
    "df=StandardScaler().fit_transform(dataframe)\n",
    "pca=PCA(n_components=9)\n",
    "principalComponents = pca.fit_transform(df)\n",
    "\n"
   ]
  },
  {
   "cell_type": "code",
   "execution_count": null,
   "metadata": {},
   "outputs": [],
   "source": [
    "pca.explained_variance_ratio_"
   ]
  },
  {
   "cell_type": "code",
   "execution_count": null,
   "metadata": {},
   "outputs": [],
   "source": [
    "PC = range(1, pca.n_components_+1)\n",
    "plt.bar(PC, pca.explained_variance_ratio_, color='gold')\n",
    "plt.xlabel('Principal Components')\n",
    "plt.ylabel('Variance %')\n",
    "plt.xticks(PC)"
   ]
  },
  {
   "cell_type": "code",
   "execution_count": null,
   "metadata": {},
   "outputs": [],
   "source": [
    "pca.explained_variance_ratio_"
   ]
  },
  {
   "cell_type": "code",
   "execution_count": null,
   "metadata": {},
   "outputs": [],
   "source": [
    "PCA_components = pd.DataFrame(principalComponents)\n",
    "plt.scatter(PCA_components[0], PCA_components[1], alpha=.3, color='gold')\n",
    "plt.xlabel('PCA 1')\n",
    "plt.ylabel('PCA 2')\n",
    "plt.show()"
   ]
  },
  {
   "cell_type": "code",
   "execution_count": null,
   "metadata": {},
   "outputs": [],
   "source": [
    "model = KMeans(n_clusters=11)\n",
    "model.fit(PCA_components.iloc[:,:])\n",
    "\n",
    "labels = model.predict(PCA_components.iloc[:,:])\n",
    "# labels.map({0:'first',1:'second',2:'third',3:'fourth',4:'fifth',5:'sixth',6:'seventh',7:'eighth',8:'nineth',9:'tenth',10:'eleventh'})"
   ]
  },
  {
   "cell_type": "code",
   "execution_count": null,
   "metadata": {},
   "outputs": [],
   "source": [
    "dataframe['Cluster']=labels"
   ]
  },
  {
   "cell_type": "code",
   "execution_count": null,
   "metadata": {},
   "outputs": [],
   "source": [
    "unique, counts = np.unique(labels, return_counts=True)\n",
    "dict(zip(unique, counts))\n",
    "# dataframe.to_csv('newCluster.csv')"
   ]
  },
  {
   "cell_type": "code",
   "execution_count": null,
   "metadata": {},
   "outputs": [],
   "source": [
    "plt.figure(figsize=(25,15))\n",
    "plt.scatter(PCA_components[0], PCA_components[1], c=labels)\n",
    "plt.show()"
   ]
  },
  {
   "cell_type": "code",
   "execution_count": null,
   "metadata": {},
   "outputs": [],
   "source": [
    "plt.figure(figsize=(25,15))\n",
    "plt.plot(range(1,10),pca.explained_variance_ratio_.cumsum(),marker='o',linestyle='--')\n",
    "plt.title('Variance vs Components Graph')\n",
    "plt.xlabel('Components')\n",
    "plt.ylabel('Variance')"
   ]
  },
  {
   "cell_type": "code",
   "execution_count": null,
   "metadata": {},
   "outputs": [],
   "source": [
    "n_pca=PCA(n_components=7)\n",
    "n_pca.fit(df)"
   ]
  },
  {
   "cell_type": "code",
   "execution_count": null,
   "metadata": {},
   "outputs": [],
   "source": [
    "scores_pca=n_pca.transform(df)"
   ]
  },
  {
   "cell_type": "code",
   "execution_count": null,
   "metadata": {},
   "outputs": [],
   "source": [
    "kmeans_pca=KMeans(n_clusters=11, init=\"k-means++\", random_state=42)"
   ]
  },
  {
   "cell_type": "code",
   "execution_count": null,
   "metadata": {},
   "outputs": [],
   "source": [
    "kmeans_pca.fit(scores_pca)"
   ]
  },
  {
   "cell_type": "code",
   "execution_count": null,
   "metadata": {},
   "outputs": [],
   "source": [
    "result_df=pd.concat([dataframe,pd.DataFrame(scores_pca)],axis=1)\n"
   ]
  },
  {
   "cell_type": "code",
   "execution_count": null,
   "metadata": {},
   "outputs": [],
   "source": [
    "result_df.head()\n",
    "dataframe['cluster']=kmeans_pca.labels_\n",
    "dataframe.to_csv('pca_kmeans.csv')"
   ]
  },
  {
   "cell_type": "code",
   "execution_count": null,
   "metadata": {},
   "outputs": [],
   "source": [
    "result_df.columns.values[-7:]=['Component 1','Component 2','Component 3','Component 4','Component 5','Component 6','Component 7']\n",
    "result_df['cluster_pca']=kmeans_pca.labels_"
   ]
  },
  {
   "cell_type": "code",
   "execution_count": null,
   "metadata": {},
   "outputs": [],
   "source": [
    "result_df.head()"
   ]
  },
  {
   "cell_type": "code",
   "execution_count": null,
   "metadata": {},
   "outputs": [],
   "source": [
    "result_df['cluster']=result_df['cluster_pca'].map({0:'first',1:'second',2:'third',3:'fourth',4:'fifth',5:'sixth',6:'seventh',7:'eighth',8:'nineth',9:'tenth',10:'eleventh'})"
   ]
  },
  {
   "cell_type": "code",
   "execution_count": null,
   "metadata": {},
   "outputs": [],
   "source": [
    "x_axis=result_df['Component 2']\n",
    "y_axis=result_df['Component 1']\n",
    "plt.figure(figsize=(25,15))\n",
    "sns.scatterplot(x_axis,y_axis,hue=result_df['cluster'],palette=['violet','c','g','y','m','b','r','olive','palegreen','sandybrown','black'])\n",
    "# sns.relplot(x=\"Component 2\", y=\"Component 1\", data=[result_df['Component 2'],result_df['Component 1']]);\n",
    "plt.title('Clusters by the components')\n",
    "plt.show()"
   ]
  },
  {
   "cell_type": "code",
   "execution_count": null,
   "metadata": {},
   "outputs": [],
   "source": []
  }
 ],
 "metadata": {
  "kernelspec": {
   "display_name": "Python 3",
   "language": "python",
   "name": "python3"
  },
  "language_info": {
   "codemirror_mode": {
    "name": "ipython",
    "version": 3
   },
   "file_extension": ".py",
   "mimetype": "text/x-python",
   "name": "python",
   "nbconvert_exporter": "python",
   "pygments_lexer": "ipython3",
   "version": "3.6.4"
  }
 },
 "nbformat": 4,
 "nbformat_minor": 2
}
